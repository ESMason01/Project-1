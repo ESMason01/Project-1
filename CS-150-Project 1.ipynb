{
 "cells": [
  {
   "cell_type": "code",
   "execution_count": 11,
   "id": "ca36e70f",
   "metadata": {
    "scrolled": true
   },
   "outputs": [],
   "source": [
    "import random\n",
    "\n",
    "def RPS_game():\n",
    "    while True:\n",
    "        H_choice= input(\"Enter Your choice (rock, paper, scissors): \")\n",
    "        RPS_Actions = [\"rock\", \"paper\", \"scissors\"]\n",
    "        Computer_choice=random.choice(RPS_Actions)\n",
    "        print(f\"\\nYou chose {H_choice}, the computer chose {Computer_choice}.\")\n",
    "\n",
    "        if H_choice==Computer_choice:\n",
    "            print(f\"Both you and the computer selected {H_choice}...You tied!\")\n",
    "        elif H_choice== \"rock\":\n",
    "            if Computer_choice==\"scissors\":\n",
    "                print(f\"{H_choice.title()} beats {Computer_choice}... You win!\")\n",
    "            else:\n",
    "                print(f\"{Computer_choice.title()} beats {H_choice}... You lose.\")\n",
    "        elif H_choice==\"paper\":\n",
    "            if Computer_choice== \"rock\":\n",
    "                print(f\"{H_choice.title()} beats {Computer_choice}... You win!\")\n",
    "            else:\n",
    "                print(f\"{Computer_choice.title()} beats {H_choice}... You lose.\")\n",
    "        elif H_choice== \"scissors\":\n",
    "            if Computer_choice== \"paper\":\n",
    "                print(f\"{H_choice.title()} beats {Computer_choice}... You win!\")\n",
    "            else:\n",
    "                print(f\"{Computer_choice.title()} beats {H_choice}... You lose.\")\n",
    "    \n",
    "        play_again = input(\"Would you like to play again? (yes or no): \")\n",
    "        if play_again==\"no\":\n",
    "            break"
   ]
  },
  {
   "cell_type": "code",
   "execution_count": 15,
   "id": "037a6675",
   "metadata": {
    "scrolled": false
   },
   "outputs": [
    {
     "name": "stdout",
     "output_type": "stream",
     "text": [
      "Enter Your choice (rock, paper, scissors): rock\n",
      "\n",
      "You chose rock, the computer chose paper.\n",
      "Paper beats rock... You lose.\n",
      "Would you like to play again? (yes or no): yes\n",
      "Enter Your choice (rock, paper, scissors): rock\n",
      "\n",
      "You chose rock, the computer chose paper.\n",
      "Paper beats rock... You lose.\n",
      "Would you like to play again? (yes or no): yes\n",
      "Enter Your choice (rock, paper, scissors): paper\n",
      "\n",
      "You chose paper, the computer chose paper.\n",
      "Both you and the computer selected paper...You tied!\n",
      "Would you like to play again? (yes or no): no\n"
     ]
    }
   ],
   "source": [
    "RPS_game()"
   ]
  },
  {
   "cell_type": "code",
   "execution_count": null,
   "id": "5aca485e",
   "metadata": {},
   "outputs": [],
   "source": []
  }
 ],
 "metadata": {
  "kernelspec": {
   "display_name": "Python 3 (ipykernel)",
   "language": "python",
   "name": "python3"
  },
  "language_info": {
   "codemirror_mode": {
    "name": "ipython",
    "version": 3
   },
   "file_extension": ".py",
   "mimetype": "text/x-python",
   "name": "python",
   "nbconvert_exporter": "python",
   "pygments_lexer": "ipython3",
   "version": "3.9.13"
  }
 },
 "nbformat": 4,
 "nbformat_minor": 5
}
